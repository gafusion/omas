{
  "cells": [
    {
      "cell_type": "markdown",
      "metadata": {},
      "source": [
        "\n# Sample OMAS data\nOMAS provides a way to populate ODSs with sample data.\nThis is often useful for testing/debugging purposes.\n"
      ]
    },
    {
      "cell_type": "code",
      "execution_count": null,
      "metadata": {
        "collapsed": false
      },
      "outputs": [],
      "source": [
        "import os\n\nos.environ['OMAS_DEBUG_TOPIC'] = '*'\n\nfrom omas import *\n\n# list functions that fill ODS with sample data\nods_sample_methods = []\nfor item in dir(ODS):\n    if item.startswith('sample_'):\n        ods_sample_methods.append(item)\nprint(\"ods_sample_methods = %s\" % ods_sample_methods)\n\nods = ODS()\n\n# add sample equilibrium data to an ODS\nods.sample_equilibrium()\n\n# alternatively, ods.sample() populates the ods with the output of all `ODS.sample_` methods\nods.sample()"
      ]
    }
  ],
  "metadata": {
    "kernelspec": {
      "display_name": "Python 3",
      "language": "python",
      "name": "python3"
    },
    "language_info": {
      "codemirror_mode": {
        "name": "ipython",
        "version": 3
      },
      "file_extension": ".py",
      "mimetype": "text/x-python",
      "name": "python",
      "nbconvert_exporter": "python",
      "pygments_lexer": "ipython3",
      "version": "3.10.2"
    }
  },
  "nbformat": 4,
  "nbformat_minor": 0
}