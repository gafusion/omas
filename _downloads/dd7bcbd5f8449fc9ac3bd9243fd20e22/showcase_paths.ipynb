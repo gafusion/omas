{
  "cells": [
    {
      "cell_type": "markdown",
      "metadata": {},
      "source": [
        "\n# showcase paths\nThis example shows how OMAS supports dynamic path crection using different syntaxes.\n\n.. figure:: ../images/dynamic_path_testimonial.png\n  :align: center\n  :width: 100%\n  :alt: What people say about OMAS dynamic path creation\n  :target: ../_images/dynamic_path_testimonial.png\n"
      ]
    },
    {
      "cell_type": "code",
      "execution_count": null,
      "metadata": {
        "collapsed": false
      },
      "outputs": [],
      "source": [
        "import numpy\n\nfrom omas import *\n\nods = ODS()\n\n# without dynamic path creation one must use Python approach to create nested dictionaries\n# this can be extremely tedious!\nwith omas_environment(ods, dynamic_path_creation=False):\n    ods['equilibrium'] = ODS()\n    ods['equilibrium']['time_slice'] = ODS()\n    ods['equilibrium']['time_slice'][0] = ODS()\n    ods['equilibrium']['time_slice'][0]['time'] = 1000\n    assert ods['equilibrium']['time_slice'][0]['time'] == 1000.0\n\n# Dynamic path creation (True by default) makes life easier.\n# NOTE: OMAS supports different data access syntaxes\nwith omas_environment(ods, dynamic_path_creation=True):\n    # access data as dictionary\n    ods['equilibrium']['time_slice'][0]['time'] = 1000.0\n    assert ods['equilibrium']['time_slice'][0]['time'] == 1000.0\n\n    # access data as string\n    ods['equilibrium.time_slice.1.time'] = 2000.0\n    assert ods['equilibrium.time_slice.1.time'] == 2000.0\n\n    # access data as string (square brackets for arrays of structures)\n    ods['equilibrium.time_slice[2].time'] = 3000.0\n    assert ods['equilibrium.time_slice[2].time'] == 3000.0\n\n    # access data with path list\n    ods[['equilibrium', 'time_slice', 3, 'time']] = 4000.0\n    assert ods[['equilibrium', 'time_slice', 3, 'time']] == 4000.0\n\n    # access data with mix and match approach\n    ods['equilibrium']['time_slice.4.time'] = 5000.0\n    assert ods['equilibrium']['time_slice.4.time'] == 5000.0\n\n# =============\n# Data slicing\n# =============\n\n# classic ways to access data across an array of structures\ndata = []\nfor k in ods['equilibrium.time_slice'].keys():\n    data.append(ods['equilibrium.time_slice'][k]['time'])\ndata = numpy.array(data)\nassert numpy.all(data == numpy.array([1000.0, 2000.0, 3000.0, 4000.0, 5000.0]))\n\n# access data across an array of structures via data slicing\ndata = ods['equilibrium.time_slice.:.time']\nassert numpy.all(data == numpy.array([1000.0, 2000.0, 3000.0, 4000.0, 5000.0]))\n\n# =========================\n# .setdefault() and .get()\n# =========================\n\n# like for Python dictionaries .setdefault() will set an entry with its\n# default value (second argument) only if that entry does not exists already\nods = ODS()\nods['equilibrium.time_slice.0.global_quantities.ip'] = 6\nods.setdefault('equilibrium.time_slice.0.global_quantities.ip', 5)\nassert ods['equilibrium.time_slice.0.global_quantities.ip'] == 6\nods = ODS()\nods.setdefault('equilibrium.time_slice.0.global_quantities.ip', 5)\nassert ods['equilibrium.time_slice.0.global_quantities.ip'] == 5\n\n# like for Python dictionaries .get() return the value of an entry or its\n# default value (second argument) if that does not exists\nods = ODS()\nods.get('equilibrium.time_slice.0.global_quantities.ip', 5)\nassert 'equilibrium.time_slice.0.global_quantities.ip' not in ods\n\n# ========\n# Cleanup\n# ========\n\n# Dynamic path creation can leave empty trees behind in case of bad IMAS location is entered.\n# This is inevitable when splitting the path in individual pieces.\n# These leftover are often innocuous, and occur only during the development stages.\n# Use of .prune() to clean empty branches left behind from dynamic path creation\nods = ODS()\ntry:\n    ods['equilibrium']['time_slice'][0]['global_quantities']['not_valid'] = 6\nexcept LookupError:\n    n = ods.prune()\n    assert n == 4\n    assert len(ods) == 0\n\n# Note that single string access does not leave empty branches\nods = ODS()\ntry:\n    ods['equilibrium.time_slice.0.global_quantities.asdasd'] = 6\nexcept LookupError:\n    assert len(ods) == 0"
      ]
    }
  ],
  "metadata": {
    "kernelspec": {
      "display_name": "Python 3",
      "language": "python",
      "name": "python3"
    },
    "language_info": {
      "codemirror_mode": {
        "name": "ipython",
        "version": 3
      },
      "file_extension": ".py",
      "mimetype": "text/x-python",
      "name": "python",
      "nbconvert_exporter": "python",
      "pygments_lexer": "ipython3",
      "version": "3.10.2"
    }
  },
  "nbformat": 4,
  "nbformat_minor": 0
}