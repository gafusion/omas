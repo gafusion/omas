{
  "cells": [
    {
      "cell_type": "markdown",
      "metadata": {},
      "source": [
        "\n# OMAS data collection\nODC class can be used to collate ODSs, which is useful for collection of data from:\n* different experimental shots\n* different simulations\n"
      ]
    },
    {
      "cell_type": "code",
      "execution_count": null,
      "metadata": {
        "collapsed": false
      },
      "outputs": [],
      "source": [
        "from omas import *\n\nprint('# collection identifier as a string')\nodc = ODC()\nodc['sim1.equilibrium.time_slice.0.global_quantities.ip'] = 1000.0\nodc['sim3.equilibrium.time_slice.0.global_quantities.ip'] = 2000.0\nodc['sim2.equilibrium.time_slice.0.global_quantities.ip'] = 3000.0\nprint(f\"  keys  : {odc.keys()}\")\nprint(f\"  values: {odc[':.equilibrium.time_slice.0.global_quantities.ip']}\")\nprint()\n\nprint('# collection identifier as consecutive integers')\nodc = ODC()\nodc['0.equilibrium.time_slice.0.global_quantities.ip'] = 1000.1\nodc['1.equilibrium.time_slice.0.global_quantities.ip'] = 2000.1\nodc['2.equilibrium.time_slice.0.global_quantities.ip'] = 3000.1\nprint(f\"  keys  : {odc.keys()}\")\nprint(f\"  values: {odc[':.equilibrium.time_slice.0.global_quantities.ip']}\")\nprint()\n\nprint('# collection identifier as non-consecutive integers')\nodc = ODC()\nodc['133221.equilibrium.time_slice.0.global_quantities.ip'] = 1000.2\nodc['133229.equilibrium.time_slice.0.global_quantities.ip'] = 1000.2\nodc['133230.equilibrium.time_slice.0.global_quantities.ip'] = 1000.2\nprint(f\"  keys  : {odc.keys()}\")\nprint(f\"  values: {odc[':.equilibrium.time_slice.0.global_quantities.ip']}\")\nprint()\n\nprint('# data slicing across collection as well as ODSs')\nodc = ODC()\nfor k in range(5):\n    odc[f'133221.equilibrium.time_slice.{k}.global_quantities.ip'] = 1000.0 + k + 1\n    odc[f'133229.equilibrium.time_slice.{k}.global_quantities.ip'] = 2000.0 + k + 1\n    odc[f'133230.equilibrium.time_slice.{k}.global_quantities.ip'] = 3000.0 + k + 1\nprint(f\"  keys  : {odc.keys()}\")\nprint(f\"  values:\\n{odc[':.equilibrium.time_slice.:.global_quantities.ip']}\")\nprint()"
      ]
    }
  ],
  "metadata": {
    "kernelspec": {
      "display_name": "Python 3",
      "language": "python",
      "name": "python3"
    },
    "language_info": {
      "codemirror_mode": {
        "name": "ipython",
        "version": 3
      },
      "file_extension": ".py",
      "mimetype": "text/x-python",
      "name": "python",
      "nbconvert_exporter": "python",
      "pygments_lexer": "ipython3",
      "version": "3.10.2"
    }
  },
  "nbformat": 4,
  "nbformat_minor": 0
}