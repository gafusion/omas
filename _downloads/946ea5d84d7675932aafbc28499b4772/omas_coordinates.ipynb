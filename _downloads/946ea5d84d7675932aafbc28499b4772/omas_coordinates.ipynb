{
  "cells": [
    {
      "cell_type": "markdown",
      "metadata": {},
      "source": [
        "\n# Coordinates interpolation\nThis example illustrates how OMAS can automatically interpolate data\ndefined on coordinates that were already present in the data structure.\nThis feature is extremely useful when different codes that have different\ncomputational grids need to read/write parts of the same data structure.\n"
      ]
    },
    {
      "cell_type": "code",
      "execution_count": null,
      "metadata": {
        "collapsed": false
      },
      "outputs": [],
      "source": [
        "import numpy\nfrom omas import *\n\nprint('A')\n# SET: if a coordinate exists, then that is the coordinate that it is used\nods1 = ODS()\nods1['equilibrium.time_slice[0].profiles_1d.psi'] = numpy.linspace(0, 1, 10)\nwith omas_environment(ods1, coordsio={'equilibrium.time_slice[0].profiles_1d.psi': numpy.linspace(0, 1, 5)}):\n    ods1['equilibrium.time_slice[0].profiles_1d.f'] = numpy.linspace(0, 1, 5)\nprint('ods1 f has length %d' % len(ods1['equilibrium.time_slice[0].profiles_1d.f']))\nprint()"
      ]
    },
    {
      "cell_type": "markdown",
      "metadata": {},
      "source": [
        "A prints the following::\n\n    A\n    ods1 f has length 10\n\n\n"
      ]
    },
    {
      "cell_type": "code",
      "execution_count": null,
      "metadata": {
        "collapsed": false
      },
      "outputs": [],
      "source": [
        "print('B')\n# SET: if a does not exists, then that coordinate is set\nods2 = ODS()\nwith omas_environment(ods2, coordsio={'equilibrium.time_slice[0].profiles_1d.psi': numpy.linspace(0, 1, 5)}):\n    ods2['equilibrium.time_slice[0].profiles_1d.pressure'] = numpy.linspace(0, 1, 5)\nprint('ods2 p has length %d' % len(ods2['equilibrium.time_slice[0].profiles_1d.pressure']))\nprint()"
      ]
    },
    {
      "cell_type": "markdown",
      "metadata": {},
      "source": [
        "B the following::\n\n    B\n    ods2 p has length 5\n\n\n"
      ]
    },
    {
      "cell_type": "code",
      "execution_count": null,
      "metadata": {
        "collapsed": false
      },
      "outputs": [],
      "source": [
        "print('C')\n# SET: coordinates can be taken from existing ODSs\nods3 = ODS()\nwith omas_environment(ods3, coordsio=ods1):\n    ods3['equilibrium.time_slice[0].profiles_1d.f'] = ods1['equilibrium.time_slice[0].profiles_1d.f']\nwith omas_environment(ods3, coordsio=ods2):\n    ods3['equilibrium.time_slice[0].profiles_1d.pressure'] = ods2['equilibrium.time_slice[0].profiles_1d.pressure']\nprint('ods3 f has length %d' % len(ods3['equilibrium.time_slice[0].profiles_1d.f']))\nprint('ods3 p has length %d' % len(ods3['equilibrium.time_slice[0].profiles_1d.pressure']))\nprint()"
      ]
    },
    {
      "cell_type": "markdown",
      "metadata": {},
      "source": [
        "C prints the following::\n\n    C\n    ods3 f has length 10\n    ods3 p has length 10\n\n\n"
      ]
    },
    {
      "cell_type": "code",
      "execution_count": null,
      "metadata": {
        "collapsed": false
      },
      "outputs": [],
      "source": [
        "print('D')\n# SET: order matters\nods4 = ODS()\nwith omas_environment(ods4, coordsio=ods2):\n    ods4['equilibrium.time_slice[0].profiles_1d.pressure'] = ods2['equilibrium.time_slice[0].profiles_1d.pressure']\nwith omas_environment(ods4, coordsio=ods1):\n    ods4['equilibrium.time_slice[0].profiles_1d.f'] = ods1['equilibrium.time_slice[0].profiles_1d.f']\nprint('ods4 f has length %d' % len(ods4['equilibrium.time_slice[0].profiles_1d.f']))\nprint('ods4 p has length %d' % len(ods4['equilibrium.time_slice[0].profiles_1d.pressure']))\nprint()"
      ]
    },
    {
      "cell_type": "markdown",
      "metadata": {},
      "source": [
        "D prints the following::\n\n    D\n    ods4 f has length 5\n    ods4 p has length 5\n\n\n"
      ]
    },
    {
      "cell_type": "code",
      "execution_count": null,
      "metadata": {
        "collapsed": false
      },
      "outputs": [],
      "source": [
        "print('E')\n# GET: ods can be queried on different coordinates\nwith omas_environment(ods4, coordsio=ods1):\n    print('ods4 f is returned with length %d' % len(ods4['equilibrium.time_slice[0].profiles_1d.f']))\nprint('ods4 f is returned with length %d' % len(ods4['equilibrium.time_slice[0].profiles_1d.f']))"
      ]
    },
    {
      "cell_type": "markdown",
      "metadata": {},
      "source": [
        "E prints the following::\n\n    E\n    ods4 f is returned with length 10\n    ods4 f is returned with length 5\n\n\n"
      ]
    }
  ],
  "metadata": {
    "kernelspec": {
      "display_name": "Python 3",
      "language": "python",
      "name": "python3"
    },
    "language_info": {
      "codemirror_mode": {
        "name": "ipython",
        "version": 3
      },
      "file_extension": ".py",
      "mimetype": "text/x-python",
      "name": "python",
      "nbconvert_exporter": "python",
      "pygments_lexer": "ipython3",
      "version": "3.10.2"
    }
  },
  "nbformat": 4,
  "nbformat_minor": 0
}