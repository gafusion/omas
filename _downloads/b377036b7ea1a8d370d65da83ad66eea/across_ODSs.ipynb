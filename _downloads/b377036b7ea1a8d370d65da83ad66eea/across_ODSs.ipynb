{
  "cells": [
    {
      "cell_type": "markdown",
      "metadata": {},
      "source": [
        "\n# Access data across multiple ODSs\nODS with consistency_check=False can be used to traverse data across multiple ODSs\n"
      ]
    },
    {
      "cell_type": "code",
      "execution_count": null,
      "metadata": {
        "collapsed": false
      },
      "outputs": [],
      "source": [
        "from omas import *\n\n# define a ods to collect multiple ODSs\nmaster_ods = ODS(consistency_check=False)\n\n# populate master_ods with a 5x3 grid of ODSs each having their data\nfor k in range(5):\n    for j in range(3):\n        ods = ODS(consistency_check=False)\n        ods['data'] = k\n        master_ods[k][j] = ods\n\n# print data aggregating across ODSs\nprint(master_ods[':.:.data'])"
      ]
    },
    {
      "cell_type": "markdown",
      "metadata": {},
      "source": [
        "This will return::\n\n    [[0 0 0]\n     [1 1 1]\n     [2 2 2]\n     [3 3 3]\n     [4 4 4]]\n\n"
      ]
    }
  ],
  "metadata": {
    "kernelspec": {
      "display_name": "Python 3",
      "language": "python",
      "name": "python3"
    },
    "language_info": {
      "codemirror_mode": {
        "name": "ipython",
        "version": 3
      },
      "file_extension": ".py",
      "mimetype": "text/x-python",
      "name": "python",
      "nbconvert_exporter": "python",
      "pygments_lexer": "ipython3",
      "version": "3.10.2"
    }
  },
  "nbformat": 4,
  "nbformat_minor": 0
}