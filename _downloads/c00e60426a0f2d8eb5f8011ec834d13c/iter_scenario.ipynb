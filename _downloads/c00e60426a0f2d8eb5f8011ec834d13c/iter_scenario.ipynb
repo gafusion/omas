{
  "cells": [
    {
      "cell_type": "markdown",
      "metadata": {},
      "source": [
        "\n# Work with ITER IMAS scenario database\n\nPlease refer to the `ITER page: <iter>`.\n"
      ]
    },
    {
      "cell_type": "code",
      "execution_count": null,
      "metadata": {
        "collapsed": false
      },
      "outputs": [],
      "source": [
        "# load OMAS package\nfrom omas import *\n\n# load data from a pulse chosen from the ITER scenario database\nods = load_omas_iter_scenario(pulse=131034, run=0)\n\n# print nodes with data\nfrom pprint import pprint\n\npprint(ods.pretty_paths())\n\n# save data in different format (eg. pickle file)\nsave_omas_pkl(ods, 'iter_scenario_131034.pk')"
      ]
    }
  ],
  "metadata": {
    "kernelspec": {
      "display_name": "Python 3",
      "language": "python",
      "name": "python3"
    },
    "language_info": {
      "codemirror_mode": {
        "name": "ipython",
        "version": 3
      },
      "file_extension": ".py",
      "mimetype": "text/x-python",
      "name": "python",
      "nbconvert_exporter": "python",
      "pygments_lexer": "ipython3",
      "version": "3.10.2"
    }
  },
  "nbformat": 4,
  "nbformat_minor": 0
}