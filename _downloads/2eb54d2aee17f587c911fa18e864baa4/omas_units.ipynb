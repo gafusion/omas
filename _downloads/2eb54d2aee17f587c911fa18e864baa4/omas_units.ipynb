{
  "cells": [
    {
      "cell_type": "markdown",
      "metadata": {},
      "source": [
        "\n# Units conversions\nThis example illustrates how OMAS can automatically translate units by leveraging the `pint` Python package\n"
      ]
    },
    {
      "cell_type": "code",
      "execution_count": null,
      "metadata": {
        "collapsed": false
      },
      "outputs": [],
      "source": [
        "from omas import *\nimport numpy\nimport pint\n\nureg = pint.UnitRegistry()\n\nods = ODS()\n\n# populate ODS feeding data that has units\ninvalue = 8.0 * ureg.milliseconds\nprint('Data input: %s' % invalue)\nods['equilibrium.time_slice[0].constraints.diamagnetic_flux.time_measurement'] = invalue\n\n# get data without units info\noutvalue = ods['equilibrium.time_slice[0].constraints.diamagnetic_flux.time_measurement']\nprint('Data output without units support: %s   #(IMAS uses MKS)' % outvalue)\n\n# get data with units information\nwith omas_environment(ods, unitsio=True):\n    outvalue = ods['equilibrium.time_slice[0].constraints.diamagnetic_flux.time_measurement']\nprint('Data output with units support: %s' % outvalue)\n\n# how to manipulate data that has units\nods.sample()\nwith omas_environment(ods, unitsio=True):\n    ne = ods['core_profiles.profiles_1d.0.electrons.density_thermal']\n    print(f'Mean density in  m^-3: {numpy.mean(ne.to(\"m^-3\").magnitude):3.3g}')\n    print(f'Mean density in cm^-3: {numpy.mean(ne.to(\"cm^-3\").magnitude):3.3g}')"
      ]
    },
    {
      "cell_type": "markdown",
      "metadata": {},
      "source": [
        "```none\nData input: 8.0 millisecond\nData output without units support: 0.008 (IMAS uses MKS)\nData output with units support: 0.008 second\nMean density in  m^-3: 4.9e+19\nMean density in cm^-3: 4.9e+13\n```\n"
      ]
    }
  ],
  "metadata": {
    "kernelspec": {
      "display_name": "Python 3",
      "language": "python",
      "name": "python3"
    },
    "language_info": {
      "codemirror_mode": {
        "name": "ipython",
        "version": 3
      },
      "file_extension": ".py",
      "mimetype": "text/x-python",
      "name": "python",
      "nbconvert_exporter": "python",
      "pygments_lexer": "ipython3",
      "version": "3.10.2"
    }
  },
  "nbformat": 4,
  "nbformat_minor": 0
}