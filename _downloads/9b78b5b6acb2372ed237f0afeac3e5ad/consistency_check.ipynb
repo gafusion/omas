{
  "cells": [
    {
      "cell_type": "markdown",
      "metadata": {},
      "source": [
        "\n# IMAS consistency check\nOMAS can enforce consistency with IMAS data structure.\nThere are three possible settings:\n\n* **consistency_check = False**: no consistency check. `False` can be used to use OMAS for other purposes other than IMAS\n\n* **consistency_check = 'warn'**: will print a wanrning if entry is outside of IMAS scope. `'warn'` can be useful when wanting to work with entries that are not yet supported by IMAS. Remember to open a JIRA issue (https://jira.iter.org) to start a conversation about making these entries officially part of IMAS.\n\n* **consistency_check = True**: will raise an error if entry is outside of IMAS scope. Recommended when working with IMAS. The error raised will clearly say where the error is, and provide suggestions based on valid IMAS structure.\n"
      ]
    },
    {
      "cell_type": "code",
      "execution_count": null,
      "metadata": {
        "collapsed": false
      },
      "outputs": [],
      "source": [
        "import os\n\nfrom omas import *\n\nprint('*' * 20)\nprint('consistency_check = False')\nprint('*' * 20)\nods = ODS().sample()\nods.consistency_check = False\n# can add entry with wrong dimensions\nods['equilibrium.time_slice[0].profiles_2d[0].b_tor'] = 1\n# can add entry that is obsolescent\nods['equilibrium.time_slice[0].profiles_2d[0].b_tor'] = [[1, 1], [1, 1]]\n# can add entry that does not exist in IMAS\nods['equilibrium.time_slice[0].does_not_exist.global_quantities.ip'] = 1\n\nprint('*' * 20)\nprint(\"consistency_check = 'warn'\")\nprint('*' * 20)\nods = ODS().sample()\nods.consistency_check = 'warn'\n# can add entry with wrong dimensions but warning message is printed\nods['equilibrium.time_slice[0].profiles_2d[0].b_tor'] = 1\n# can add entry that is obsolescent but warning message is printed\nods['equilibrium.time_slice[0].profiles_2d[0].b_tor'] = [[1, 1], [1, 1]]\n# can add entry that does not exist in IMAS but warning message is printed\nods['equilibrium.time_slice[0].does_not_exist.global_quantities.ip'] = 1"
      ]
    },
    {
      "cell_type": "markdown",
      "metadata": {},
      "source": [
        "In the above example `consistency_check = warn` or `True` result in the following warnings::\n\n    equilibrium.time_slice.:.profiles_2d.:.b_tor must be an array with dimensions: ['equilibrium.time_slice[:].profiles_2d[:].grid.dim1', 'equilibrium.time_slice[:].profiles_2d[:].grid.dim2']\n    equilibrium.time_slice.:.profiles_2d.:.b_tor is in OBSOLESCENT state\n\n"
      ]
    },
    {
      "cell_type": "code",
      "execution_count": null,
      "metadata": {
        "collapsed": false
      },
      "outputs": [],
      "source": [
        "print('*' * 20)\nprint(\"consistency_check = True\")\nprint('*' * 20)\nods = ODS().sample()\nods.consistency_check = True  # this is the default\n# add entry with wrong dimensions\ntry:\n    ods['equilibrium.time_slice[0].profiles_2d[0].b_tor'] = 1\n    raise Exception('Was able to add an entry with wrong dimensions!')\nexcept ValueError:\n    pass\n# add entry that is obsolescent\nods['equilibrium.time_slice[0].profiles_2d[0].grid.dim1'] = [1, 2, 3]\nods['equilibrium.time_slice[0].profiles_2d[0].grid.dim2'] = [1, 2, 3, 4]\nods['equilibrium.time_slice[0].profiles_2d[0].b_tor'] = [[1, 1, 1] * 4]\n# add entry that does not exist in IMAS\ntry:\n    ods['equilibrium.time_slice[0].does_not_exist.global_quantities.ip'] = 1\n    raise Exception('Was able to add an entry with that is not in IMAS even if consistency_check = True')\nexcept LookupError:\n    pass"
      ]
    },
    {
      "cell_type": "markdown",
      "metadata": {},
      "source": [
        "In the above example `consistency_check = True` result in the following error::\n\n    LookupError: Not a valid IMAS 3.18.0 location: `equilibrium.time_slice.:.does_not_exist`\n                                                                             ^^^^^^^^^^^^^^\n    Did you mean: ['profiles_2d', 'ggd', 'boundary', 'profiles_1d', 'constraints', 'global_quantities', 'coordinate_system', 'boundary_separatrix', 'time', 'convergence']\n\n"
      ]
    }
  ],
  "metadata": {
    "kernelspec": {
      "display_name": "Python 3",
      "language": "python",
      "name": "python3"
    },
    "language_info": {
      "codemirror_mode": {
        "name": "ipython",
        "version": 3
      },
      "file_extension": ".py",
      "mimetype": "text/x-python",
      "name": "python",
      "nbconvert_exporter": "python",
      "pygments_lexer": "ipython3",
      "version": "3.10.2"
    }
  },
  "nbformat": 4,
  "nbformat_minor": 0
}