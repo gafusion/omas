{
  "cells": [
    {
      "cell_type": "markdown",
      "metadata": {},
      "source": [
        "\n# OMAS plot overlays\nThis example loads sample DIII-D overlay data and generates an overlays plots\n"
      ]
    },
    {
      "cell_type": "code",
      "execution_count": null,
      "metadata": {
        "collapsed": false
      },
      "outputs": [],
      "source": [
        "from matplotlib.pyplot import show, gca\nfrom omas import *\nimport numpy\n\n# load sample data from S3\nods = ods_sample()\n\n# plot equilibrium and wall\nods.plot_equilibrium_CX(contour_quantity='psi_norm')\n# plot overlays\nods.plot_overlay(  # Values can be True to simply turn on or dict to pass keywords to specific overlay functions\n    gas_injection={'colors': ['b', 'g', 'c']},  # , 'which_gas': ['GASA', 'LOB1']},\n    bolometer={'labelevery': 1, 'linestyle': '--'},\n    thomson_scattering={'labelevery': 4, 'color': 'r'},\n    debug_all_plots=True,\n)\ngca().legend(loc='center left', bbox_to_anchor=(1, 0.5))\ngca().set_aspect('equal')\n\n# display figure\nshow()"
      ]
    }
  ],
  "metadata": {
    "kernelspec": {
      "display_name": "Python 3",
      "language": "python",
      "name": "python3"
    },
    "language_info": {
      "codemirror_mode": {
        "name": "ipython",
        "version": 3
      },
      "file_extension": ".py",
      "mimetype": "text/x-python",
      "name": "python",
      "nbconvert_exporter": "python",
      "pygments_lexer": "ipython3",
      "version": "3.10.2"
    }
  },
  "nbformat": 4,
  "nbformat_minor": 0
}