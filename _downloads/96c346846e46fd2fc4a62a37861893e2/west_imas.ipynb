{
  "cells": [
    {
      "cell_type": "markdown",
      "metadata": {},
      "source": [
        "\n# Extracting selected data from WEST\nThis simple example loads selected data from the WEST IMAS database\n\nTo run this, make sure to first::\n\n    module load omfit\n    module load IMAS/3.30.0-4.8.4\n"
      ]
    },
    {
      "cell_type": "code",
      "execution_count": null,
      "metadata": {
        "collapsed": false
      },
      "outputs": [],
      "source": [
        "from omas import *\n\nods = ODS()\nwith ods.open('imas', 'public', 'west', 55866, 0):\n    x = ods['equilibrium.time']\n    y = ods['equilibrium.time_slice.:.global_quantities.ip']\n\nfrom matplotlib import pyplot\n\npyplot.plot(x, y)\npyplot.show()"
      ]
    }
  ],
  "metadata": {
    "kernelspec": {
      "display_name": "Python 3",
      "language": "python",
      "name": "python3"
    },
    "language_info": {
      "codemirror_mode": {
        "name": "ipython",
        "version": 3
      },
      "file_extension": ".py",
      "mimetype": "text/x-python",
      "name": "python",
      "nbconvert_exporter": "python",
      "pygments_lexer": "ipython3",
      "version": "3.10.2"
    }
  },
  "nbformat": 4,
  "nbformat_minor": 0
}