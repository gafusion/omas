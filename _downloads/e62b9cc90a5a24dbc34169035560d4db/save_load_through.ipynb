{
  "cells": [
    {
      "cell_type": "markdown",
      "metadata": {},
      "source": [
        "\n# Save through data systems\n\nThis examples instantiates a sample ODS, and saves it and loads it trhough the different systems that OMAS supports.\nFinally, a check is done to make sure that the final ODS is the same as the initial ODS.\n\n.. figure:: ../images/omas_through_simple.png\n  :align: center\n  :width: 50%\n  :alt: omas save data through different file formats\n  :target: ../_images/omas_through_simple.png\n"
      ]
    },
    {
      "cell_type": "code",
      "execution_count": null,
      "metadata": {
        "collapsed": false
      },
      "outputs": [],
      "source": [
        "import os\nfrom pprint import pprint\n\nos.environ['OMAS_DEBUG_TOPIC'] = '*'\n\nfrom omas import *\n\n# load some sample data\nods_start = ods_sample()\n\n# save/load Python pickle\nfilename = 'test.pkl'\nsave_omas_pkl(ods_start, filename)\nods = load_omas_pkl(filename)\n\n# save/load ASCII json\nfilename = 'test.json'\nsave_omas_json(ods, filename)\nods = load_omas_json(filename)\n\n# save/load NetCDF\nfilename = 'test.nc'\nsave_omas_nc(ods, filename)\nods = load_omas_nc(filename)\n\n# save/load HDF5\nfilename = 'test.h5'\nsave_omas_h5(ods, filename)\nods = load_omas_h5(filename)\n\n# remote save/load S3\nfilename = 'test.s3'\nsave_omas_s3(ods, filename)\nods = load_omas_s3(filename)\n\n# save/load IMAS\nomas_rcparams['allow_fake_imas_fallback'] = True\npaths = save_omas_imas(ods, machine='ITER', pulse=1, new=True)\nods_end = load_omas_imas(machine='ITER', pulse=1, paths=paths)\n\n# check data\ndifference = different_ods(ods_start, ods_end)\nif not difference:\n    print('OMAS data got saved and loaded correctly throughout')\nelse:\n    pprint(difference)"
      ]
    }
  ],
  "metadata": {
    "kernelspec": {
      "display_name": "Python 3",
      "language": "python",
      "name": "python3"
    },
    "language_info": {
      "codemirror_mode": {
        "name": "ipython",
        "version": 3
      },
      "file_extension": ".py",
      "mimetype": "text/x-python",
      "name": "python",
      "nbconvert_exporter": "python",
      "pygments_lexer": "ipython3",
      "version": "3.10.2"
    }
  },
  "nbformat": 4,
  "nbformat_minor": 0
}