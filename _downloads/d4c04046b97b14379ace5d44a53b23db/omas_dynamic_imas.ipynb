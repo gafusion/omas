{
  "cells": [
    {
      "cell_type": "markdown",
      "metadata": {},
      "source": [
        "\n# Dynamic loading of IMAS data\nThis example illustrates how OMAS can load in memory IMAS data only when it is first requested\n"
      ]
    },
    {
      "cell_type": "code",
      "execution_count": null,
      "metadata": {
        "collapsed": false
      },
      "outputs": [],
      "source": [
        "import os\nfrom omas import *\n\n# set OMAS_DEBUG_TOPIC to see when data is loaded dynamically\nos.environ['OMAS_DEBUG_TOPIC'] = 'dynamic'\n\nuser = os.environ.get('USER', \"default_user\")\n\n# generate some data and save it in IMAS\nods = ODS().sample(ntimes=2)\nods.save('imas', user, 'DIII-D', 1000, 0, new=True, verbose=True)\n\n# ODS.open() will keep the file descriptor open so that OMAS\n# can load in memory only the data when it is first requested\n# NOTE: one can use the `with` statement or open()/close()\nods = ODS()\nwith ods.open('imas', user, 'DIII-D', 1000, 0):\n    # data gets read from IMAS when first requested\n    print(ods['equilibrium.time_slice.:.global_quantities.ip'])\n    # then it is in memory\n    print(ods['equilibrium.time_slice.0.global_quantities.ip'])\n\n# save it as a pickle\nods.save('test.pkl')\n\n# load the data back\nods = ODS()\nods.load('test.pkl')\n\n# the data that was loaded is stored in the pickle\nprint(ods.flat().keys())\n\n# continue loading more data\nwith ods.open('imas', user, 'DIII-D', 1000, 0):\n    print(ods['equilibrium.time'])\n\n# tell us what IMAS elements have data\nwith ods.open('imas', user, 'DIII-D', 1000, 0):\n    print(ods.keys())\n    print(ods['equilibrium.time_slice.0.profiles_1d'].keys())"
      ]
    }
  ],
  "metadata": {
    "kernelspec": {
      "display_name": "Python 3",
      "language": "python",
      "name": "python3"
    },
    "language_info": {
      "codemirror_mode": {
        "name": "ipython",
        "version": 3
      },
      "file_extension": ".py",
      "mimetype": "text/x-python",
      "name": "python",
      "nbconvert_exporter": "python",
      "pygments_lexer": "ipython3",
      "version": "3.10.2"
    }
  },
  "nbformat": 4,
  "nbformat_minor": 0
}