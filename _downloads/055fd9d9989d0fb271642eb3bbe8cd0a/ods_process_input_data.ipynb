{
  "cells": [
    {
      "cell_type": "markdown",
      "metadata": {},
      "source": [
        "\n# Input data processing\nOMAS supports user defined input data processing\n"
      ]
    },
    {
      "cell_type": "code",
      "execution_count": null,
      "metadata": {
        "collapsed": false
      },
      "outputs": [],
      "source": [
        "from omas import *\n\n\n# user defined function that takes input string and converts it to python types\ndef robust_eval(string):\n    import ast\n\n    try:\n        return ast.literal_eval(string)\n    except:\n        return string\n\n\n# assign data and process it with user defined function\nods = ODS(consistency_check=False)\nwith omas_environment(ods, input_data_process_functions=[robust_eval]):\n    ods['int'] = '1'\n    ods['float'] = '1.0'\n    ods['str'] = 'bla'\n    ods['complex'] = '2+1j'\n\n# test\nfor item in ods:\n    print(ods[item], type(ods[item]))\n    assert isinstance(ods[item], eval(item))"
      ]
    }
  ],
  "metadata": {
    "kernelspec": {
      "display_name": "Python 3",
      "language": "python",
      "name": "python3"
    },
    "language_info": {
      "codemirror_mode": {
        "name": "ipython",
        "version": 3
      },
      "file_extension": ".py",
      "mimetype": "text/x-python",
      "name": "python",
      "nbconvert_exporter": "python",
      "pygments_lexer": "ipython3",
      "version": "3.10.2"
    }
  },
  "nbformat": 4,
  "nbformat_minor": 0
}