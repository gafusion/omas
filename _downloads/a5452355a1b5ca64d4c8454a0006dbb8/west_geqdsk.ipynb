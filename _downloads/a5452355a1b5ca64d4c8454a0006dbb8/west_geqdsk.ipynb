{
  "cells": [
    {
      "cell_type": "markdown",
      "metadata": {},
      "source": [
        "\n# gEQDSK file from IMAS WEST data\nThis example loads WEST IMAS equilibrium data and generates a gEQDSK file from it.\n\nNOTE: There is an OMFIT script that does this (works also remotely) and can be called with::\n\n    omfit gEQDSK_west \"shot=55866, run=0, occurrence=1, time=47, resolution=129\"\n\nTo run this, make sure to first::\n\n    module load omfit\n    module load IMAS/3.30.0-4.8.4\n"
      ]
    },
    {
      "cell_type": "code",
      "execution_count": null,
      "metadata": {
        "collapsed": false
      },
      "outputs": [],
      "source": [
        "from omas import ODS\nimport numpy\nfrom omfit_eqdsk import OMFITgeqdsk\nfrom matplotlib import pyplot\n\nshot = 55866\nrun = 0\noccurrence = 1  # 0:magnetics / 1:MSE\ntime = 47  # in seconds\nresolution = 129  # grid resolution of the gEQDKS file\n\n# load the data from IMAS\nods = ODS().load(\n    'imas',\n    user='public',\n    machine='west',\n    pulse=shot,\n    run=run,\n    occurrence={'equilibrium': occurrence},\n    paths=[['equilibrium']],\n    skip_uncertainties=True,\n)\n\n# get the time info for this IDS\nt = ods['equilibrium'].time('time_slice')\ntime_index = numpy.argmin(abs(t - time))  # nearest time_index in the ODS\n\n# grid interpolation can be time consuming, so we do it only for the requested time index\nods.physics_equilibrium_ggd_to_rectangular(time_index=[time_index], resolution=resolution, method='extrapolate')\n\n# much faster than querying the wall IDS\nods.physics_wall_add('west')\n\n# generate the gEQDSK file\ng = OMFITgeqdsk(None).from_omas(ods, time_index=time_index)\ng.deploy()\n\n# plot\ng.plot()\npyplot.show()"
      ]
    }
  ],
  "metadata": {
    "kernelspec": {
      "display_name": "Python 3",
      "language": "python",
      "name": "python3"
    },
    "language_info": {
      "codemirror_mode": {
        "name": "ipython",
        "version": 3
      },
      "file_extension": ".py",
      "mimetype": "text/x-python",
      "name": "python",
      "nbconvert_exporter": "python",
      "pygments_lexer": "ipython3",
      "version": "3.10.2"
    }
  },
  "nbformat": 4,
  "nbformat_minor": 0
}