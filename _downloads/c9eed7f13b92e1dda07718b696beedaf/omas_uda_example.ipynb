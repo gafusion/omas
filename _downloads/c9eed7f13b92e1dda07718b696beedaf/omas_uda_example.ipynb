{
  "cells": [
    {
      "cell_type": "markdown",
      "metadata": {},
      "source": [
        "\n# UDA Universal Data Access\nThis example illustrates how OMAS can load machines\nexperimental data stored in IMAS format via UDA\n"
      ]
    },
    {
      "cell_type": "code",
      "execution_count": null,
      "metadata": {
        "collapsed": false
      },
      "outputs": [],
      "source": [
        "from omas import *\nfrom pprint import pprint\n\n# MAST UDA server (restricted access)\nserver = 'idam0.mast.ccfe.ac.uk'\nport = 56563\n\npulse = 30420\n\nods = load_omas_uda(server=server, port=port, pulse=pulse, paths=['magnetics'])\n\npprint(ods.pretty_paths())"
      ]
    }
  ],
  "metadata": {
    "kernelspec": {
      "display_name": "Python 3",
      "language": "python",
      "name": "python3"
    },
    "language_info": {
      "codemirror_mode": {
        "name": "ipython",
        "version": 3
      },
      "file_extension": ".py",
      "mimetype": "text/x-python",
      "name": "python",
      "nbconvert_exporter": "python",
      "pygments_lexer": "ipython3",
      "version": "3.10.2"
    }
  },
  "nbformat": 4,
  "nbformat_minor": 0
}