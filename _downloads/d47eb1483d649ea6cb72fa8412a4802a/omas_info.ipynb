{
  "cells": [
    {
      "cell_type": "markdown",
      "metadata": {},
      "source": [
        "\n# IDS info\nThis is an example showing how to query OMAS for structural information about IMAS IDSs\n"
      ]
    },
    {
      "cell_type": "code",
      "execution_count": null,
      "metadata": {
        "collapsed": false
      },
      "outputs": [],
      "source": [
        "from pprint import pprint\nfrom omas import *\n\n# Get information about whole IDS structures\ninfos = omas_info(['equilibrium', 'core_profiles'])\npprint(infos['equilibrium']['time_slice'][0]['global_quantities']['ip'])"
      ]
    },
    {
      "cell_type": "markdown",
      "metadata": {},
      "source": [
        "The above example prints the following::\n\n    {'cocos_label_transformation': 'ip_like',\n     'cocos_leaf_name_aos_indices': 'equilibrium.time_slice{i}.global_quantities.ip',\n     'cocos_transformation_expression': '.sigma_ip_eff',\n     'data_type': 'FLT_0D',\n     'documentation': 'Plasma current. Positive sign means anti-clockwise when '\n                      'viewed from above.',\n     'full_path': 'equilibrium/time_slice(itime)/global_quantities/ip',\n     'lifecycle_status': 'active',\n     'type': 'dynamic',\n     'units': 'A'}\n\n"
      ]
    },
    {
      "cell_type": "code",
      "execution_count": null,
      "metadata": {
        "collapsed": false
      },
      "outputs": [],
      "source": [
        "# Get information about a single node\ninfo_single_node = omas_info_node('equilibrium.time_slice.:.global_quantities.ip')\npprint(info_single_node)\n\n# Generate the RST documentation for an existing ODS\ndocs = ODS().sample_equilibrium().document()\nprint(docs)"
      ]
    }
  ],
  "metadata": {
    "kernelspec": {
      "display_name": "Python 3",
      "language": "python",
      "name": "python3"
    },
    "language_info": {
      "codemirror_mode": {
        "name": "ipython",
        "version": 3
      },
      "file_extension": ".py",
      "mimetype": "text/x-python",
      "name": "python",
      "nbconvert_exporter": "python",
      "pygments_lexer": "ipython3",
      "version": "3.10.2"
    }
  },
  "nbformat": 4,
  "nbformat_minor": 0
}