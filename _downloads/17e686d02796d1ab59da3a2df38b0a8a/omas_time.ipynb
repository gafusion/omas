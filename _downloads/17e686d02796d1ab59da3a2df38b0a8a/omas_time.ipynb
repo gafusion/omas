{
  "cells": [
    {
      "cell_type": "markdown",
      "metadata": {},
      "source": [
        "\n# Time in OMAS\nThis example illustrates how OMAS can handle the time dimension\n"
      ]
    },
    {
      "cell_type": "code",
      "execution_count": null,
      "metadata": {
        "collapsed": false
      },
      "outputs": [],
      "source": [
        "from omas import *\n\n# test generation of a sample ods\nods = ODS()\nods['equilibrium.time_slice'][0]['time'] = 100\nods['equilibrium.time_slice.0.global_quantities.ip'] = 0.0\nods['equilibrium.time_slice'][1]['time'] = 200\nods['equilibrium.time_slice.1.global_quantities.ip'] = 1.0\nods['equilibrium.time_slice'][2]['time'] = 300\nods['equilibrium.time_slice.1.global_quantities.ip'] = 2.0\n\n# get time information from children\nextra_info = {}\nprint(ods.time('equilibrium', extra_info=extra_info))\n# >>  [100 200 300]\nprint(extra_info)\n# >>  {'location': 'equilibrium.time_slice.:.time', 'homogeneous_time': True}\n\n# show use of .homogeneous_time property\nprint(ods.homogeneous_time('equilibrium'))\n# >>  True\n\n# time arrays can be set using `set_time_array` function\n# this simplifies the logic in the code since one does not\n# have to check if the array was already there or not\nods.set_time_array('equilibrium.time', 0, 101)\nods.set_time_array('equilibrium.time', 1, 201)\nods.set_time_array('equilibrium.time', 2, 302)\n\n# the make the timeslices consistent\nods['equilibrium.time_slice'][0]['time'] = 101\nods['equilibrium.time_slice'][1]['time'] = 201\nods['equilibrium.time_slice'][2]['time'] = 302\n\n# get time information from explicitly set time array\nextra_info = {}\nprint(ods.time('equilibrium', extra_info=extra_info))\n# >>  [101 201 301]\nprint(extra_info)\n# >>  {'location': '.time', 'homogeneous_time': True}\n\n# get time value from item in array of structures\nextra_info = {}\nprint(ods['equilibrium.time_slice'][0].time(extra_info=extra_info))\n# >>  101\nprint(extra_info)\n# >>  {'location': 'equilibrium.time_slice.0.time', 'homogeneous_time': True}\n\n# get time array from array of structures\nextra_info = {}\nprint(ods['equilibrium.time_slice'].time(extra_info=extra_info))\n# >>  [101 201 302]\nprint(extra_info)\n# >>  {'location': 'equilibrium.time_slice.:.time', 'homogeneous_time': True}\n\n# get time from parent\nextra_info = {}\nprint(ods.time('equilibrium.time_slice.0.global_quantities.ip', extra_info=extra_info))\n# >>  101\nprint(extra_info)\n# >>  {'location': '.time', 'homogeneous_time': None}\n\n# slice whole ODS at given time\nods1 = ods['equilibrium'].slice_at_time(101)\nprint(ods.time('equilibrium'))\n# >>  [101]"
      ]
    }
  ],
  "metadata": {
    "kernelspec": {
      "display_name": "Python 3",
      "language": "python",
      "name": "python3"
    },
    "language_info": {
      "codemirror_mode": {
        "name": "ipython",
        "version": 3
      },
      "file_extension": ".py",
      "mimetype": "text/x-python",
      "name": "python",
      "nbconvert_exporter": "python",
      "pygments_lexer": "ipython3",
      "version": "3.10.2"
    }
  },
  "nbformat": 4,
  "nbformat_minor": 0
}