{
  "cells": [
    {
      "cell_type": "markdown",
      "metadata": {},
      "source": [
        "\n# OMFIT gEQDSK and IMAS\nThis example loads a gEQDSK file using the OMFITgeqdsk class.\nThe gEQKDS file is then save to IMAS and loaded back.\n\nPrior running this script, the following commands must be typed at the teriminal\n> import IMAS OMAS\n> imasdb ITER\n\n.. figure:: ../images/eq_omas_omfit.png\n  :align: center\n  :width: 75%\n  :alt: OMFIT+OMAS facilitate save/load gEQDSK to/from IMAS\n  :target: /.._images/eq_omas_omfit.png\n"
      ]
    },
    {
      "cell_type": "code",
      "execution_count": null,
      "metadata": {
        "collapsed": false
      },
      "outputs": [],
      "source": [
        "import os\nfrom matplotlib import pyplot\n\nfrom omfit_classes.omfit_eqdsk import OMFITgeqdsk\nfrom omas import *\n\nimas_version = os.environ.get('IMAS_VERSION', omas_rcparams['default_imas_version'])\n\n# settings\nos.environ['OMAS_DEBUG_TOPIC'] = 'imas'\nomas_rcparams['allow_fake_imas_fallback'] = True\n\n# read gEQDSK file in OMFIT\neq = OMFITgeqdsk(f'{omas_dir}samples/g145419.02100')\n\n# convert gEQDSK to OMAS data structure\nods = eq.to_omas()\n\n# save OMAS data structure to IMAS\npaths = save_omas_imas(ods, machine='DIII-D', pulse=145419, new=True)\n\n# load OMAS data structure from IMAS\nods1 = load_omas_imas(machine='DIII-D', pulse=145419)\n\n# generate gEQDSK file from OMAS data structure\neq1 = OMFITgeqdsk('145419.02100').from_omas(ods1)\n\n# save gEQDSK file\neq1.deploy('145419.02100')\n\n# plot\neq.plot()\neq1.plot()\npyplot.show()"
      ]
    }
  ],
  "metadata": {
    "kernelspec": {
      "display_name": "Python 3",
      "language": "python",
      "name": "python3"
    },
    "language_info": {
      "codemirror_mode": {
        "name": "ipython",
        "version": 3
      },
      "file_extension": ".py",
      "mimetype": "text/x-python",
      "name": "python",
      "nbconvert_exporter": "python",
      "pygments_lexer": "ipython3",
      "version": "3.10.2"
    }
  },
  "nbformat": 4,
  "nbformat_minor": 0
}