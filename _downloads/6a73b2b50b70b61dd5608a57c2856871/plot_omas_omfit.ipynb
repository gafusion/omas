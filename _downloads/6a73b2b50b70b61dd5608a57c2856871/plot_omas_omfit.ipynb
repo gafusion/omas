{
  "cells": [
    {
      "cell_type": "markdown",
      "metadata": {},
      "source": [
        "\n# OMFIT classes and plotting\nHow to generate ODSs from OMFITclasses, and use OMAS plot methods\n"
      ]
    },
    {
      "cell_type": "code",
      "execution_count": null,
      "metadata": {
        "collapsed": false
      },
      "outputs": [],
      "source": [
        "from matplotlib.pyplot import show\n\nfrom omfit_classes.omfit_eqdsk import OMFITgeqdsk\nfrom omfit_classes.omfit_gacode import OMFITgacode\nfrom omas import *\n\n# =====================\n# plotting equilibrium\n# =====================\n# read gEQDSK file in OMFIT\ngeq = OMFITgeqdsk(f'{omas_dir}samples/g145419.02100')\ngeq['fluxSurfaces'].load()\n\n# convert gEQDSK to OMAS data structure\nods = geq.to_omas()\n\n# omas plots using functional approach\nomas_plot.equilibrium_summary(ods, linewidth=1)\n\n# omas plots using object-oriented approach\n# ods.plot_equilibrium_summary(linewidth=1)\n\n# =====================\n# plotting profiles\n# =====================\n# read input.profiles file in OMFIT\nip = OMFITgacode(f'{omas_dir}samples/input.profiles_145419_02100')\n\n# convert input.profiles to OMAS data structure\nods = ip.to_omas()\n\n# omas plots using functional approach\n# omas_plot.core_profiles_summary(ods)\n\n# omas plots using object-oriented approach\nods.plot_core_profiles_summary()\n\nshow()"
      ]
    }
  ],
  "metadata": {
    "kernelspec": {
      "display_name": "Python 3",
      "language": "python",
      "name": "python3"
    },
    "language_info": {
      "codemirror_mode": {
        "name": "ipython",
        "version": 3
      },
      "file_extension": ".py",
      "mimetype": "text/x-python",
      "name": "python",
      "nbconvert_exporter": "python",
      "pygments_lexer": "ipython3",
      "version": "3.10.2"
    }
  },
  "nbformat": 4,
  "nbformat_minor": 0
}