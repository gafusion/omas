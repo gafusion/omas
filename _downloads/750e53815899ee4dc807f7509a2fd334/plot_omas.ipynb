{
  "cells": [
    {
      "cell_type": "markdown",
      "metadata": {},
      "source": [
        "\n# OMAS plot examples\nThis example loads some data from S3, augments the ODS with pressure information, and generates some plots\n"
      ]
    },
    {
      "cell_type": "code",
      "execution_count": null,
      "metadata": {
        "collapsed": false
      },
      "outputs": [],
      "source": [
        "from matplotlib import pyplot\nfrom omas import *\n\n# load some data from S3\nods = load_omas_s3('OMFITprofiles_sample', user='omas_shared')\n\n# augment ODS with pressure information\nods.physics_core_profiles_pressures()\n\n# omas plot for pressures\nods.plot_core_profiles_pressures()\npyplot.show()\n\n# omas plot for core profiles\nods.plot_core_profiles_summary()\npyplot.show()\n\n# omas plot for equilibrium\nomas_plot.equilibrium_summary(ods, linewidth=1, label='my equilibrium')\npyplot.show()\n\n# omas plot for transport fluxes\nods = ODS().sample(5)\nods.plot_core_transport_fluxes()\npyplot.show()"
      ]
    }
  ],
  "metadata": {
    "kernelspec": {
      "display_name": "Python 3",
      "language": "python",
      "name": "python3"
    },
    "language_info": {
      "codemirror_mode": {
        "name": "ipython",
        "version": 3
      },
      "file_extension": ".py",
      "mimetype": "text/x-python",
      "name": "python",
      "nbconvert_exporter": "python",
      "pygments_lexer": "ipython3",
      "version": "3.10.2"
    }
  },
  "nbformat": 4,
  "nbformat_minor": 0
}