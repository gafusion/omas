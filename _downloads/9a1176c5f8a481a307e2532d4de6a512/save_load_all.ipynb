{
  "cells": [
    {
      "cell_type": "markdown",
      "metadata": {},
      "source": [
        "\n# Test all save/load systems\nSave and load a sample ODS through the different OMAS save formats and check that information does not get lost or corrupted.\nA final report summarizes if some storage systems combinations have errors.\n"
      ]
    },
    {
      "cell_type": "code",
      "execution_count": null,
      "metadata": {
        "collapsed": false
      },
      "outputs": [],
      "source": [
        "import os\nimport copy\nimport numpy\nfrom pprint import pprint\nfrom omas import *\nfrom omas.omas_utils import printd\n\n_tests = ['pkl', 'json', 'nc', 's3', 'h5', 'imas', 'hdc']\n\n\ndef through_omas_suite(ods=None, test_type=None, do_raise=False):\n    \"\"\"\n    :param ods: omas structure to test. If None this is set to ods_sample\n\n    :param test_type: None tests all suite, otherwise choose among %s\n\n    :param do_raise: raise error if something goes wrong\n    \"\"\"\n\n    if ods is None:\n        ods = ODS().sample()\n    ods = copy.deepcopy(ods)  # make a copy to make sure throuhs do not alter original ODS\n\n    if test_type in _tests:\n        os.environ['OMAS_DEBUG_TOPIC'] = test_type\n        ods1 = globals()['through_omas_' + test_type](ods)\n        difference = ods.diff(ods1)\n\n        print('OMAS data got saved and loaded correctly')\n        print(\"Diff:\")\n        pprint(difference)\n\n    else:\n        os.environ['OMAS_DEBUG_TOPIC'] = '*'\n        printd('OMAS is using IMAS data structure version `%s` as default' % omas_rcparams['default_imas_version'], topic='*')\n\n        print('=' * 20)\n\n        results = numpy.zeros((len(_tests), len(_tests)))\n\n        for k1, t1 in enumerate(_tests):\n            failed1 = False\n            try:\n                ods1 = globals()['through_omas_' + t1](ods)\n            except Exception as _excp:\n                failed1 = _excp\n                if do_raise:\n                    raise\n            for k2, t2 in enumerate(_tests):\n                try:\n                    if failed1:\n                        raise failed1\n                    ods2 = globals()['through_omas_' + t2](ods1)\n\n                    different = ods1.diff(ods2)\n                    if not different:\n                        print('FROM %s TO %s : OK' % (t1.center(5), t2.center(5)))\n                        results[k1, k2] = 1.0\n                    else:\n                        print('FROM %s TO %s : NO --> %s' % (t1.center(5), t2.center(5), different))\n                        results[k1, k2] = -1.0\n\n                except Exception as _excp:\n                    print('FROM %s TO %s : NO --> %s' % (t1.center(5), t2.center(5), repr(_excp)))\n                    if do_raise:\n                        raise\n        print('=' * 20)\n        print(results.astype(int))\n        print('=' * 20)\n\n\nthrough_omas_suite(ods=None, test_type=None, do_raise=False)"
      ]
    },
    {
      "cell_type": "markdown",
      "metadata": {},
      "source": [
        "In the above example `consistency_check = True` result in the following error::\n\n    LookupError: Not a valid IMAS 3.18.0 location: `equilibrium.time_slice.:.does_not_exist`\n                                                                             ^^^^^^^^^^^^^^\n    Did you mean: ['profiles_2d', 'ggd', 'boundary', 'profiles_1d', 'constraints', 'global_quantities', 'coordinate_system', 'boundary_separatrix', 'time', 'convergence']\n\n"
      ]
    },
    {
      "cell_type": "markdown",
      "metadata": {},
      "source": [
        "If successful, the test should output:\n\n```none\n====================\nFROM  pkl  TO  pkl  : OK\nFROM  pkl  TO  json : OK\nFROM  pkl  TO   nc  : OK\nFROM  pkl  TO   s3  : OK\nFROM  pkl  TO  imas : OK\nFROM  json TO  pkl  : OK\nFROM  json TO  json : OK\nFROM  json TO   nc  : OK\nFROM  json TO   s3  : OK\nFROM  json TO  imas : OK\nFROM   nc  TO  pkl  : OK\nFROM   nc  TO  json : OK\nFROM   nc  TO   nc  : OK\nFROM   nc  TO   s3  : OK\nFROM   nc  TO  imas : OK\nFROM   s3  TO  pkl  : OK\nFROM   s3  TO  json : OK\nFROM   s3  TO   nc  : OK\nFROM   s3  TO   s3  : OK\nFROM   s3  TO  imas : OK\nFROM  imas TO  pkl  : OK\nFROM  imas TO  json : OK\nFROM  imas TO   nc  : OK\nFROM  imas TO   s3  : OK\nFROM  imas TO  imas : OK\n====================\n[[1 1 1 1 1]\n [1 1 1 1 1]\n [1 1 1 1 1]\n [1 1 1 1 1]\n [1 1 1 1 1]]\n====================\n```\nIf for example `imas` is not installed on the system, the test output will look like:\n\n```none\n====================\nFROM  pkl  TO  pkl  : OK\nFROM  pkl  TO  json : OK\nFROM  pkl  TO   nc  : OK\nFROM  pkl  TO   s3  : OK\nFROM  pkl  TO  imas : NO --> ImportError('No module named imas',)\nFROM  json TO  pkl  : OK\nFROM  json TO  json : OK\nFROM  json TO   nc  : OK\nFROM  json TO   s3  : OK\nFROM  json TO  imas : NO --> ImportError('No module named imas',)\nFROM   nc  TO  pkl  : OK\nFROM   nc  TO  json : OK\nFROM   nc  TO   nc  : OK\nFROM   nc  TO   s3  : OK\nFROM   nc  TO  imas : NO --> ImportError('No module named imas',)\nFROM   s3  TO  pkl  : OK\nFROM   s3  TO  json : OK\nFROM   s3  TO   nc  : OK\nFROM   s3  TO   s3  : OK\nFROM   s3  TO  imas : NO --> ImportError('No module named imas',)\nFROM  imas TO  pkl  : NO --> ImportError('No module named imas',)\nFROM  imas TO  json : NO --> ImportError('No module named imas',)\nFROM  imas TO   nc  : NO --> ImportError('No module named imas',)\nFROM  imas TO   s3  : NO --> ImportError('No module named imas',)\nFROM  imas TO  imas : NO --> ImportError('No module named imas',)\n====================\n[[1 1 1 1 0]\n [1 1 1 1 0]\n [1 1 1 1 0]\n [1 1 1 1 0]\n [0 0 0 0 0]]\n====================\n```\n"
      ]
    }
  ],
  "metadata": {
    "kernelspec": {
      "display_name": "Python 3",
      "language": "python",
      "name": "python3"
    },
    "language_info": {
      "codemirror_mode": {
        "name": "ipython",
        "version": 3
      },
      "file_extension": ".py",
      "mimetype": "text/x-python",
      "name": "python",
      "nbconvert_exporter": "python",
      "pygments_lexer": "ipython3",
      "version": "3.10.2"
    }
  },
  "nbformat": 4,
  "nbformat_minor": 0
}