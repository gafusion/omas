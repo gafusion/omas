{
  "cells": [
    {
      "cell_type": "markdown",
      "metadata": {},
      "source": [
        "\n# Dynamic loading of experimental data\nThis example illustrates how OMAS can load experimental data on demand.\nOnly the data that is queried in the ODS will be loaded.\n\nNOTE: Running this example requires having MDSplus and the omfit_classes Python packages installed\n"
      ]
    },
    {
      "cell_type": "code",
      "execution_count": null,
      "metadata": {
        "collapsed": false
      },
      "outputs": [],
      "source": [
        "import os\nfrom omas import *\nfrom omfit_classes.omfit_eqdsk import OMFITgeqdsk\nfrom matplotlib import pyplot\n\nos.environ['OMAS_DEBUG_TOPIC'] = 'dynamic'\n\n# load of some experiment quantities\nods = ODS()\nwith ods.open('d3d', 168830, options={'EFIT_tree': 'EFIT01'}):\n    ip = ods['equilibrium.time_slice.:.global_quantities.ip']\n    print(f\"Max Ip is {max(ip)} [A]\")\n\n# plot experiment equilibrium reconstruction w/ probes and PF coils\npyplot.figure()\nods = ODS()\nwith ods.open('d3d', 168830, options={'EFIT_tree': 'EFIT02'}):\n    ods.plot_equilibrium_CX(time=2.1)\n    ods.plot_overlay(wall=True, magnetics=True, pf_active=True)\npyplot.show()\n\n# plot magnetics\npyplot.figure()\nods = ODS()\nwith ods.open('d3d', 168830):\n    lines = pyplot.plot(ods[f'magnetics.b_field_pol_probe.:.field.time'].T, ods[f'magnetics.b_field_pol_probe.:.field.data'].T)\n    pyplot.xlabel('Time [s]')\n    pyplot.ylabel('Field [T]')\npyplot.show()\n\n# generate a D3D gEQDSK file from experimental data\npyplot.figure()\nods = ODS()\nwith ods.open('d3d', 168830, options={'EFIT_tree': 'EFIT02'}):\n    gEQDSK = OMFITgeqdsk(None).from_omas(ods, time=1.1)\ngEQDSK.plot()\npyplot.show()\n\n# generate a NSTX gEQDSK file from experimental data\npyplot.figure()\nods = ODS()\nwith ods.open('nstxu', 139047, options={'EFIT_tree': 'EFIT01'}):\n    gEQDSK = OMFITgeqdsk(None).from_omas(ods, time=0.5)\ngEQDSK.plot()\npyplot.show()"
      ]
    }
  ],
  "metadata": {
    "kernelspec": {
      "display_name": "Python 3",
      "language": "python",
      "name": "python3"
    },
    "language_info": {
      "codemirror_mode": {
        "name": "ipython",
        "version": 3
      },
      "file_extension": ".py",
      "mimetype": "text/x-python",
      "name": "python",
      "nbconvert_exporter": "python",
      "pygments_lexer": "ipython3",
      "version": "3.10.2"
    }
  },
  "nbformat": 4,
  "nbformat_minor": 0
}