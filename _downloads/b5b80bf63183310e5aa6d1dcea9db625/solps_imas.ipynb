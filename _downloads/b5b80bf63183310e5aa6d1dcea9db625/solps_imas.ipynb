{
  "cells": [
    {
      "cell_type": "markdown",
      "metadata": {},
      "source": [
        "\n# SOLPS and IMAS\nUsing OMAS to load data from a SOLPS simulation stored in the ITER scenario database\n\nPrior running this script, the following commands must be typed at the teriminal\n> import IMAS OMAS\n"
      ]
    },
    {
      "cell_type": "code",
      "execution_count": null,
      "metadata": {
        "collapsed": false
      },
      "outputs": [],
      "source": [
        "import os\nfrom pprint import pprint\nfrom numpy import *\nfrom omas import *\n\n# load an ITER scenario that has SOLPS data in an ODS\n# NOTE: loading the ggd data structure can take some time\nods = load_omas_iter_scenario(pulse=102292, run=1)\n\n# print paths\npprint(ods.pretty_paths())\n\n# add some arbitrary data to an entry in the tree\nods['edge_profiles.ggd[0].electrons.density[9].values'] = linspace(0, 1, 10)\n\n# save updated ODS to our personal IMAS database\nsave_omas_imas(ods, machine='ITER', pulse=102292, run=11, new=True, imas_version=omas_rcparams['default_imas_version'])\n\n# re-load data from our personal IMAS database\nods1 = load_omas_imas(machine='ITER', pulse=102292, run=11, imas_version=omas_rcparams['default_imas_version'])\n\n# convince ourselves that the data has indeed been written and read back\nprint(ods1['edge_profiles.ggd[0].electrons.density[9].values'])"
      ]
    }
  ],
  "metadata": {
    "kernelspec": {
      "display_name": "Python 3",
      "language": "python",
      "name": "python3"
    },
    "language_info": {
      "codemirror_mode": {
        "name": "ipython",
        "version": 3
      },
      "file_extension": ".py",
      "mimetype": "text/x-python",
      "name": "python",
      "nbconvert_exporter": "python",
      "pygments_lexer": "ipython3",
      "version": "3.10.2"
    }
  },
  "nbformat": 4,
  "nbformat_minor": 0
}