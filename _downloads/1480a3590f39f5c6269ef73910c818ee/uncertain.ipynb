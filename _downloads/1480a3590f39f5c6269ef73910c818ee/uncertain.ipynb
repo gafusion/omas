{
  "cells": [
    {
      "cell_type": "markdown",
      "metadata": {},
      "source": [
        "\n# Uncertain data\nThis example shows how OMAS can seamlessly handle unceratain data leveraging the `uncertainties` Python package\n"
      ]
    },
    {
      "cell_type": "code",
      "execution_count": null,
      "metadata": {
        "collapsed": false
      },
      "outputs": [],
      "source": [
        "from omas import *\nimport os\nimport numpy\nimport uncertainties.unumpy as unumpy\nfrom uncertainties import ufloat\n\n# generate some uncertain data\nods = ODS()\nods['equilibrium.time'] = [0.0]\nods['equilibrium.time_slice[0].global_quantities.ip'] = ufloat(3, 0.1)\nods['thomson_scattering.channel[0].t_e.data'] = unumpy.uarray([1, 2, 3], [0.1, 0.2, 0.3])\nods['thomson_scattering.channel[0].n_e.data'] = numpy.array([1.0, 2.0, 3.0])\nods['thomson_scattering.time'] = numpy.linspace(0, 1, 3)\nods['thomson_scattering.ids_properties.homogeneous_time'] = 1\n\n# save/load from pickle\nprint('== PKL ==')\ntry:\n    __file__\nexcept NameError:\n    import inspect\n\n    __file__ = inspect.getfile(lambda: None)\nomas_testing_directory = omas_testdir()\nsave_omas_pkl(ods, omas_testdir(__file__) + '/test.pkl')\nods = load_omas_pkl(omas_testdir(__file__) + '/test.pkl')\nprint(ods)\n\n# save/load from json\nprint('== JSON ==')\nsave_omas_json(ods, omas_testdir(__file__) + '/test.json')\nods = load_omas_json(omas_testdir(__file__) + '/test.json')\nprint(ods)\n\n# save/load from nc\nprint('== NC ==')\nsave_omas_nc(ods, omas_testdir(__file__) + '/test.nc')\nods = load_omas_nc(omas_testdir(__file__) + '/test.nc')\nprint(ods)\n\n# save/load from imas\nprint('== IMAS ==')\nomas_rcparams['allow_fake_imas_fallback'] = True\nsave_omas_imas(ods, user=os.environ.get('USER', 'dummy_user'), machine='test', pulse=10, run=1, new=True)\nods = load_omas_imas(user=os.environ.get('USER', 'dummy_user'), machine='test', pulse=10, run=1, verbose=False)\nprint(ods)"
      ]
    }
  ],
  "metadata": {
    "kernelspec": {
      "display_name": "Python 3",
      "language": "python",
      "name": "python3"
    },
    "language_info": {
      "codemirror_mode": {
        "name": "ipython",
        "version": 3
      },
      "file_extension": ".py",
      "mimetype": "text/x-python",
      "name": "python",
      "nbconvert_exporter": "python",
      "pygments_lexer": "ipython3",
      "version": "3.10.2"
    }
  },
  "nbformat": 4,
  "nbformat_minor": 0
}