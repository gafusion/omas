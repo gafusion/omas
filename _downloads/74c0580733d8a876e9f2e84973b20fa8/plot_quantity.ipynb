{
  "cells": [
    {
      "cell_type": "markdown",
      "metadata": {},
      "source": [
        "\n# Rapid plot\nThis example shows how to use the .plot_quantity() method to\nconveniently and rapidly plot individual ODS quantities\n"
      ]
    },
    {
      "cell_type": "code",
      "execution_count": null,
      "metadata": {
        "collapsed": false
      },
      "outputs": [],
      "source": [
        "from matplotlib import pyplot\nimport os\nfrom omas import *\n\nods = ODS().sample()\n\nkw = {}\nkw['lw'] = 2\n\nfig = pyplot.figure(figsize=(12, 6))\n\nax = fig.add_subplot(2, 2, 1)\nt = '$T_e$'\nods.plot_quantity('@core.*elec.*tem', t, **kw)\nax.set_title(t, y=0.8)\n\nax = fig.add_subplot(2, 2, 3, sharex=ax)\nt = '$T_i$'\nods.plot_quantity('@core.*ion.0.*tem', t, **kw)\nax.set_title(t, y=0.8)\n\nax = fig.add_subplot(4, 2, 2, sharex=ax)\nt = '$n_e$'\nods.plot_quantity('@core.*elec.*dens', t, **kw)\nax.set_title(t, y=0.8)\n\nax = fig.add_subplot(4, 2, 4, sharex=ax)\nt = '$n_D$'\nods.plot_quantity('@core.*ion.0.*dens.*th', t, **kw)\nax.set_title(t, y=0.8)\n\nax = fig.add_subplot(4, 2, 6, sharex=ax)\nt = '$n_C$'\nods.plot_quantity('@core.*ion.1.*dens.*th', t, **kw)\nax.set_title(t, y=0.8)\n\nax = fig.add_subplot(4, 2, 8, sharex=ax)\nt = '$Z_{eff}$'\nods.plot_quantity('@core.*zeff', t, **kw)\nax.set_title(t, y=0.8)\n\nfig.subplots_adjust(hspace=0)\npyplot.show()"
      ]
    }
  ],
  "metadata": {
    "kernelspec": {
      "display_name": "Python 3",
      "language": "python",
      "name": "python3"
    },
    "language_info": {
      "codemirror_mode": {
        "name": "ipython",
        "version": 3
      },
      "file_extension": ".py",
      "mimetype": "text/x-python",
      "name": "python",
      "nbconvert_exporter": "python",
      "pygments_lexer": "ipython3",
      "version": "3.10.2"
    }
  },
  "nbformat": 4,
  "nbformat_minor": 0
}