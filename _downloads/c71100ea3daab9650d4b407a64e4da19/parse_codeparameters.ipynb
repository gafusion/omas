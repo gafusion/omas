{
  "cells": [
    {
      "cell_type": "markdown",
      "metadata": {},
      "source": [
        "\n# OMAS handling of code parameters\n\nThis example shows how XML code.parameters are handled withing OMAS\n\nNOTE: OMAS will save code.parameters as XML only when saving to IMAS\nAll other save methods retain the code.parameters tree structure\n"
      ]
    },
    {
      "cell_type": "code",
      "execution_count": null,
      "metadata": {
        "collapsed": false
      },
      "outputs": [],
      "source": [
        "from pprint import pprint\nfrom omas import *\nimport os\n\n# Assign code parameters using dictionary approach\nods = ODS()\nods['equilibrium.code.parameters'] = CodeParameters()\nods['equilibrium.code.parameters']['test'] = {}\nods['equilibrium.code.parameters']['test']['parameter1'] = 1\nods['equilibrium.code.parameters']['test']['parameter2'] = 'hello'\nwith omas_environment(ods, xmlcodeparams=True):\n    pprint(ods)\n\n# Load code parameters from XML file\nods = ODS()\nods['equilibrium.time'] = [0.0]\nods['equilibrium.code.parameters'] = CodeParameters(omas_dir + 'samples/input_gray.xml')\n\n# In OMAS code.parameters are represented as dicts\npprint(ods)\n# the XML representation can be set with an environment\nwith omas_environment(ods, xmlcodeparams=True):\n    pprint(ods)\npprint(ods)\n\n# The IMAS save is the only one that forces saving code.parameters as XML\n# All other save methods maintain the dictionary structure\nomas_rcparams['allow_fake_imas_fallback'] = True\n\n# Save to IMAS\n# code.parameters are saved as XML\nprint('=' * 20)\nprint(' Writing data to IMAS')\nprint('=' * 20)\nsave_omas_imas(ods, machine='ITER', pulse=1, new=True)\n\n# Load from IMAS\n# code.parameters are loaded as XML\nprint('=' * 20)\nprint(' Reading data from IMAS')\nprint('=' * 20)\nods1 = load_omas_imas(machine='ITER', pulse=1)\n\n# code.parameters are dictionaries in the ODS\npprint(ods['equilibrium.code.parameters'])\n\n# Handle code.parameters that are not in XML format as per IMAS specifications\nods = ODS()\nods['equilibrium.code.parameters'] = 'not in XML format'\nwith omas_environment(ods, xmlcodeparams=True):\n    print(ods['equilibrium.code.parameters'])  # This will not raise an error"
      ]
    }
  ],
  "metadata": {
    "kernelspec": {
      "display_name": "Python 3",
      "language": "python",
      "name": "python3"
    },
    "language_info": {
      "codemirror_mode": {
        "name": "ipython",
        "version": 3
      },
      "file_extension": ".py",
      "mimetype": "text/x-python",
      "name": "python",
      "nbconvert_exporter": "python",
      "pygments_lexer": "ipython3",
      "version": "3.10.2"
    }
  },
  "nbformat": 4,
  "nbformat_minor": 0
}