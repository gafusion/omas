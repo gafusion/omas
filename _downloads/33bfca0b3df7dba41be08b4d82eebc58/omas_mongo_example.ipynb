{
  "cells": [
    {
      "cell_type": "markdown",
      "metadata": {},
      "source": [
        "\n# MongoDB storage and discovery\nOMAS can store/load its data in a MongoDB server.\nMongoDB is a document-oriented database program that uses JSON-like documents with schema\nand supports field, range query, and regular expression searches.\n\nAs an example we illustrate storage of GKDB data in this format.\n"
      ]
    },
    {
      "cell_type": "code",
      "execution_count": null,
      "metadata": {
        "collapsed": false
      },
      "outputs": [],
      "source": [
        "from pprint import *\nfrom omas import *\nfrom random import random\n\nods = ODS().sample_equilibrium()\nods['equilibrium.time_slice.0.global_quantities.ip'] *= 0.9 + random() * 0.2\nods['equilibrium.code.name'] = 'test_code'\n\nprint('write entry to the database')\n_id = save_omas_mongo(ods, collection='test', database='test')\n\nprint('retrieve exact entry using `_id`')\nods = ODS().load('mongo', {'_id': _id}, collection='test', database='test')\n\nprint('find at most 5 entries that satisfy the query by matching strings')\nodss = load_omas_mongo({'equilibrium.code.name': 'test_code'}, collection='test', database='test', limit=5)\nprint(f' - found {len(odss)} entries')\n\nprint('find at most 5 entries based on scalar condition')\n# https://docs.mongodb.com/manual/tutorial/query-embedded-documents/\nodss = load_omas_mongo({'equilibrium.time_slice.0.global_quantities.ip': {'$gt': 0}}, collection='test', database='test', limit=5)\nprint(f' - found {len(odss)} entries')\n\nprint('find at most 5 entries based on conditions on array elements')\n# https://docs.mongodb.com/manual/tutorial/query-arrays/\nodss = load_omas_mongo({'equilibrium.vacuum_toroidal_field.b0': {'$size': 1}}, collection='test', database='test', limit=5)\nprint(f' - found {len(odss)} entries')\n\n# =============================================\n# showcase use of MongoDB storage for GKDB data\n# =============================================\nprint('load a sample GKDB sample json file')\nsample_filename = omas_dir + 'samples/gkdb_linear_eigenvalue.json'\nods = ODS()\n# warn about `gyrokinetics_local.fluxes_integrated_norm = []` and drop it\nods['gyrokinetics_local'].load(sample_filename, consistency_check='warn_drop')\n\nprint('write GKDB entry to the database')\n_id = ods.save('mongo', collection='gkdb', database='test')\n\nprint('reload GKDB entry')\nods1 = ODS()\nods1.load('mongo', {'_id': _id}, collection='gkdb', database='test')\n\nprint('look for differences between original GKDB json and MongoDB entry')\ndifferences = ods.diff(ods1, ignore_type=True)\nif not differences:\n    print('\\nPrint no differences found: save/load of GKDB on MongoDB worked\\n')\nelse:\n    pprint(differences)\n    raise RuntimeError('Save/Load of GKDB  on MongoDB failed')"
      ]
    }
  ],
  "metadata": {
    "kernelspec": {
      "display_name": "Python 3",
      "language": "python",
      "name": "python3"
    },
    "language_info": {
      "codemirror_mode": {
        "name": "ipython",
        "version": 3
      },
      "file_extension": ".py",
      "mimetype": "text/x-python",
      "name": "python",
      "nbconvert_exporter": "python",
      "pygments_lexer": "ipython3",
      "version": "3.10.2"
    }
  },
  "nbformat": 4,
  "nbformat_minor": 0
}