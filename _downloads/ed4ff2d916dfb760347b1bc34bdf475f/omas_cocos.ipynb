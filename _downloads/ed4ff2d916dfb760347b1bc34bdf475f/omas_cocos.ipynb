{
  "cells": [
    {
      "cell_type": "markdown",
      "metadata": {},
      "source": [
        "\n# COCOS transformations\nOMAS can seamlessly handle coordinates convention translations\n"
      ]
    },
    {
      "cell_type": "code",
      "execution_count": null,
      "metadata": {
        "collapsed": false
      },
      "outputs": [],
      "source": [
        "import os\n\nos.environ['OMAS_DEBUG_TOPIC'] = 'cocos'\n\nfrom omas import *\nimport numpy\n\nx = numpy.linspace(0.1, 1, 10)\n\n# use different COCOS storage conventions\n\nods = ODS(cocosio=11, cocos=11)\nods['equilibrium.time_slice.0.profiles_1d.psi'] = x\nassert numpy.allclose(ods['equilibrium.time_slice.0.profiles_1d.psi'], x)\nprint(ods['equilibrium.time_slice.0.profiles_1d.psi'])\n\nods = ODS(cocosio=11, cocos=2)\nods['equilibrium.time_slice.0.profiles_1d.psi'] = x\nassert numpy.allclose(ods['equilibrium.time_slice.0.profiles_1d.psi'], x)\nprint(ods['equilibrium.time_slice.0.profiles_1d.psi'])\n\nods = ODS(cocosio=2, cocos=11)\nods['equilibrium.time_slice.0.profiles_1d.psi'] = x\nassert numpy.allclose(ods['equilibrium.time_slice.0.profiles_1d.psi'], x)\nprint(ods['equilibrium.time_slice.0.profiles_1d.psi'])\n\nods = ODS(cocosio=2, cocos=2)\nods['equilibrium.time_slice.0.profiles_1d.psi'] = x\nassert numpy.allclose(ods['equilibrium.time_slice.0.profiles_1d.psi'], x)\nprint(ods['equilibrium.time_slice.0.profiles_1d.psi'])\n\n# reassign the same value\nods = ODS(cocosio=2)\nods['equilibrium.time_slice.0.profiles_1d.psi'] = x\nods['equilibrium.time_slice.0.profiles_1d.psi'] = ods['equilibrium.time_slice.0.profiles_1d.psi']\nassert numpy.allclose(ods['equilibrium.time_slice.0.profiles_1d.psi'], x)\nprint(ods['equilibrium.time_slice.0.profiles_1d.psi'])\n\n# use omas_environment\nods = ODS(cocosio=2)\nods['equilibrium.time_slice.0.profiles_1d.psi'] = x\nwith omas_environment(ods, cocosio=11):\n    assert numpy.allclose(ods['equilibrium.time_slice.0.profiles_1d.psi'], -x * (2 * numpy.pi))\n    print(ods['equilibrium.time_slice.0.profiles_1d.psi'])\n\nods['equilibrium.time_slice.0.profiles_1d.psi'] = x\nassert numpy.allclose(ods['equilibrium.time_slice.0.profiles_1d.psi'], x)\nprint(ods['equilibrium.time_slice.0.profiles_1d.psi'])"
      ]
    }
  ],
  "metadata": {
    "kernelspec": {
      "display_name": "Python 3",
      "language": "python",
      "name": "python3"
    },
    "language_info": {
      "codemirror_mode": {
        "name": "ipython",
        "version": 3
      },
      "file_extension": ".py",
      "mimetype": "text/x-python",
      "name": "python",
      "nbconvert_exporter": "python",
      "pygments_lexer": "ipython3",
      "version": "3.10.2"
    }
  },
  "nbformat": 4,
  "nbformat_minor": 0
}