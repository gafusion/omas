{
  "cells": [
    {
      "cell_type": "markdown",
      "metadata": {},
      "source": [
        "\n# Extend IMAS data dictionary\nThis example extends the IMAS data dictionary with user defined structures\n"
      ]
    },
    {
      "cell_type": "code",
      "execution_count": null,
      "metadata": {
        "collapsed": false
      },
      "outputs": [],
      "source": [
        "from omas import ODS\nfrom omas.omas_structure import add_extra_structures\n\n# OMAS extra_structures\n_extra_structures = {\n    'core_profiles': {\n        \"core_profiles.profiles_1d[:].does_not_exist\": {\n            \"coordinates\": [\"core_profiles.profiles_1d[:].grid.rho_tor_norm\"],\n            \"documentation\": \"testing adding entries to IMAS data dictionary\",\n            \"data_type\": \"FLT_1D\",\n            \"units\": \"rad/s\",\n            \"cocos_signal\": \"TOR\",\n        }\n    }\n}\n\n\nods = ODS()\n\ntry:\n    ods['core_profiles.profiles_1d[0].does_not_exist'] = [1.0]\nexcept LookupError:\n    pass\nelse:\n    raise RuntimeError('core_profiles.profiles_1d[0].does_not_exist should not be a valid IMAS location')\n\nadd_extra_structures(_extra_structures)\nods['core_profiles.profiles_1d[:].does_not_exist'] = [1.0]"
      ]
    }
  ],
  "metadata": {
    "kernelspec": {
      "display_name": "Python 3",
      "language": "python",
      "name": "python3"
    },
    "language_info": {
      "codemirror_mode": {
        "name": "ipython",
        "version": 3
      },
      "file_extension": ".py",
      "mimetype": "text/x-python",
      "name": "python",
      "nbconvert_exporter": "python",
      "pygments_lexer": "ipython3",
      "version": "3.10.2"
    }
  },
  "nbformat": 4,
  "nbformat_minor": 0
}