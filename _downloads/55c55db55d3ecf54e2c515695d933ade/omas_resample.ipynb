{
  "cells": [
    {
      "cell_type": "markdown",
      "metadata": {},
      "source": [
        "\n# Interpolate whole ODS\nSeamless handling of coordinates within OMAS makes it easy to reinterpolate a whole ODS on a new grid\n"
      ]
    },
    {
      "cell_type": "code",
      "execution_count": null,
      "metadata": {
        "collapsed": false
      },
      "outputs": [],
      "source": [
        "import numpy\nfrom omas import *\n\n# original ODS\nods = ODS()\nods.sample_equilibrium()\n\n# interpolated ODS\nods_interpolated = ODS()\n\n# define new psi grid of ods_interpolated\nnew_psi = numpy.linspace(ods['equilibrium.time_slice.0.profiles_1d.psi'][0], ods['equilibrium.time_slice.0.profiles_1d.psi'][-1], 21)\nods_interpolated['equilibrium.time_slice.0.profiles_1d.psi'] = new_psi\n\n# interpolate whole ods on new psi grid\nwith omas_environment(ods_interpolated, coordsio=ods):\n    ods_interpolated.update(ods)\n\n# print some quantity from interpolated ods\nassert len(ods_interpolated['equilibrium.time_slice.0.profiles_1d.pressure']) == 21\nprint(ods_interpolated['equilibrium.time_slice.0.profiles_1d.pressure'])"
      ]
    }
  ],
  "metadata": {
    "kernelspec": {
      "display_name": "Python 3",
      "language": "python",
      "name": "python3"
    },
    "language_info": {
      "codemirror_mode": {
        "name": "ipython",
        "version": 3
      },
      "file_extension": ".py",
      "mimetype": "text/x-python",
      "name": "python",
      "nbconvert_exporter": "python",
      "pygments_lexer": "ipython3",
      "version": "3.10.2"
    }
  },
  "nbformat": 4,
  "nbformat_minor": 0
}