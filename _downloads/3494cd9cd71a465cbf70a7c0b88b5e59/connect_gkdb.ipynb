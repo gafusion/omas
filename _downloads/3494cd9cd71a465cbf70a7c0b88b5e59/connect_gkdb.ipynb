{
  "cells": [
    {
      "cell_type": "markdown",
      "metadata": {},
      "source": [
        "\n# Interface with GKDB\nUse OMAS to interface with Gyro-Kinetic DataBase (GKDB) https://gitlab.com/gkdb/gkdb\nGKDB is a publicly accessible database of delta-f flux-tube gyro-kinetic simulations of tokamak plasmas\nwhich stores its data according to the `gyrokinetic` IMAS IDS https://gafusion.github.io/omas/schema/schema_gyrokinetics.html\n"
      ]
    },
    {
      "cell_type": "code",
      "execution_count": null,
      "metadata": {
        "collapsed": false
      },
      "outputs": [],
      "source": [
        "from omas import ODS, omas_dir, omas_testdir\nfrom pprint import pprint\nimport sys\n\n# load a sample GKDB sample json file\nsample_filename = omas_dir + 'samples/gkdb_linear_eigenvalue.json'\nods = ODS()\n# warn about `gyrokinetics_local.fluxes_integrated_norm = []` and drop it\nods['gyrokinetics_local'].load(sample_filename, consistency_check='warn_drop')\n\n# show content\npprint(ods.pretty_paths())\n\n# save a copy\ntry:\n    __file__\nexcept NameError:\n    import inspect\n\n    __file__ = inspect.getfile(lambda: None)\nfilename = omas_testdir(__file__) + '/gkdb_linear_initialvalue.json'\nods['gyrokinetics_local'].save(filename)\n\n# load the newly saved copy\nods1 = ODS()\nods1['gyrokinetics_local'].load(filename)\n\n# look for differences between original GKDB json and OMAS json\ndifferences = ods.diff(ods1, ignore_type=True)\nif not differences:\n    print('\\nPrint no differences found: save/load of GKDB json file worked\\n')\nelse:\n    pprint(differences)\n    raise RuntimeError('Save/Load of GKDB on json file failed')\n\n# raise error if trying to run GKDB under Python2x\ntry:\n    import gkdb.core.model\nexcept ImportError as _excp:\n    print('Could not import gkdb library: %s' % repr(_excp))\nelse:\n    # Check that GKDB file written by OMAS is valid also according to GKDB\n    if gkdb.core.ids_checks.check_json(filename, only_input=False):\n        print('json file saved via OMAS is valid for gkdb')\n\n    # This requires an account on the GKDB server\n    if False:\n        gkdb.core.model.connect_to_gkdb()\n        gkdb.core.model.Ids_properties.from_json(filename)"
      ]
    }
  ],
  "metadata": {
    "kernelspec": {
      "display_name": "Python 3",
      "language": "python",
      "name": "python3"
    },
    "language_info": {
      "codemirror_mode": {
        "name": "ipython",
        "version": 3
      },
      "file_extension": ".py",
      "mimetype": "text/x-python",
      "name": "python",
      "nbconvert_exporter": "python",
      "pygments_lexer": "ipython3",
      "version": "3.10.2"
    }
  },
  "nbformat": 4,
  "nbformat_minor": 0
}